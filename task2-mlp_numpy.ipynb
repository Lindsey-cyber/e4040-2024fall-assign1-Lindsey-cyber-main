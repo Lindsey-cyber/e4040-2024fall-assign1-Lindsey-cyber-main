{
 "cells": [
  {
   "cell_type": "markdown",
   "metadata": {},
   "source": [
    "## Columbia University\n",
    "### ECBM E4040 Neural Networks and Deep Learning. Fall 2024."
   ]
  },
  {
   "cell_type": "markdown",
   "metadata": {
    "colab_type": "text",
    "id": "Qe6yTh55trpQ"
   },
   "source": [
    "# Assignment 1, Task 2: Multi-Layer Perceptron (MLP)\n",
    "\n",
    "You will get to know how to build basic fully connected (FC) neural network. In this task, all the functions will be created from scratch using NumPy for your understanding. You will be introduced to built-in layers from TensorFlow in Task 3."
   ]
  },
  {
   "cell_type": "code",
   "execution_count": 3,
   "metadata": {
    "colab": {},
    "colab_type": "code",
    "id": "7Vs2WYIFtrpS",
    "tags": []
   },
   "outputs": [],
   "source": [
    "# Import modules\n",
    "import tensorflow as tf\n",
    "import time\n",
    "import os\n",
    "import pickle\n",
    "import numpy as np\n",
    "import matplotlib.pyplot as plt\n",
    "\n",
    "from tensorflow.keras.datasets import fashion_mnist\n",
    "\n",
    "# Plot configurations\n",
    "%matplotlib inline\n",
    "\n",
    "# Notebook auto reloads code. (Ref: http://stackoverflow.com/questions/1907993/autoreload-of-modules-in-ipython)\n",
    "%load_ext autoreload\n",
    "%autoreload 2"
   ]
  },
  {
   "cell_type": "markdown",
   "metadata": {
    "colab_type": "text",
    "id": "3gYnTjputrpV"
   },
   "source": [
    "## Load Data"
   ]
  },
  {
   "cell_type": "code",
   "execution_count": 5,
   "metadata": {
    "colab": {
     "base_uri": "https://localhost:8080/",
     "height": 168
    },
    "colab_type": "code",
    "id": "I31uJ6KltrpW",
    "outputId": "1a677958-43ca-422c-ec66-38e8cdff4283",
    "tags": []
   },
   "outputs": [
    {
     "name": "stdout",
     "output_type": "stream",
     "text": [
      "(49000, 784) (1000, 784) (10000, 784) (100, 784)\n",
      "Train data shape:  (49000, 784)\n",
      "Train labels shape:  (49000,)\n",
      "Validation data shape:  (1000, 784)\n",
      "Validation labels shape:  (1000,)\n",
      "Test data shape:  (10000, 784)\n",
      "Test labels shape:  (10000,)\n",
      "Development data shape: (100, 784)\n",
      "Development data shape (100,)\n"
     ]
    }
   ],
   "source": [
    "# Load the raw Fashion-MNIST data.\n",
    "train, test = fashion_mnist.load_data()\n",
    "\n",
    "X_train_raw, y_train = train\n",
    "X_test_raw, y_test = test\n",
    "\n",
    "X_train = X_train_raw.reshape((X_train_raw.shape[0], X_train_raw.shape[1]**2))\n",
    "X_test = X_test_raw.reshape((X_test_raw.shape[0], X_test_raw.shape[1]**2))\n",
    "\n",
    "# Data organizations:\n",
    "# Train data: 49000 samples from original train set: 1~49,000\n",
    "# Validation data: 1000 samples from original train set: 49,000~50,000\n",
    "# Test data: 10000 samples from original test set: 1~10,000\n",
    "# Development data (for gradient check): 100 from the train set: 1~49,000\n",
    "num_training = 49000\n",
    "num_validation = 1000\n",
    "num_dev = 100\n",
    "\n",
    "X_val = X_train[-num_validation:, :]\n",
    "y_val = y_train[-num_validation:]\n",
    "\n",
    "mask = np.random.choice(num_training, num_dev, replace=False)\n",
    "X_dev = X_train[mask]\n",
    "y_dev = y_train[mask]\n",
    "\n",
    "X_train = X_train[:num_training, :]\n",
    "y_train = y_train[:num_training]\n",
    "\n",
    "# Preprocessing: subtract the mean value across every dimension for training data\n",
    "mean_image = np.mean(X_train, axis=0)\n",
    "\n",
    "X_train = X_train.astype(np.float32) - mean_image.astype(np.float32)\n",
    "X_val = X_val.astype(np.float32) - mean_image\n",
    "X_test = X_test.astype(np.float32) - mean_image\n",
    "X_dev = X_dev.astype(np.float32) - mean_image\n",
    "\n",
    "print(X_train.shape, X_val.shape, X_test.shape, X_dev.shape)\n",
    "print('Train data shape: ', X_train.shape)\n",
    "print('Train labels shape: ', y_train.shape)\n",
    "print('Validation data shape: ', X_val.shape)\n",
    "print('Validation labels shape: ', y_val.shape)\n",
    "print('Test data shape: ', X_test.shape)\n",
    "print('Test labels shape: ', y_test.shape)\n",
    "print('Development data shape:', X_dev.shape)\n",
    "print('Development data shape', y_dev.shape)"
   ]
  },
  {
   "cell_type": "markdown",
   "metadata": {
    "colab_type": "text",
    "id": "pLhMsud9trpa"
   },
   "source": [
    "## Part 1: Basic Layers (15%)\n",
    "\n",
    "A neural network layer needs two different passes in order to function properly:\n",
    "- **Forward Pass**: computes the outputs given inputs\n",
    "- **Backward Pass**: computes the gradients w.r.t. inputs and parameters from the outputs\n",
    "\n",
    "In this part, we will implement both passes for several typical MLP components, which includes the **affine layer** (to generate linear embeddings of the inputs) and the **activation layer** (to provide non-linearity). Then we will implement the **Cross-Entropy Layer**, which is a one of the most popular classification loss."
   ]
  },
  {
   "cell_type": "markdown",
   "metadata": {},
   "source": [
    "### Affine Layer"
   ]
  },
  {
   "cell_type": "markdown",
   "metadata": {},
   "source": [
    "Consider some input $X \\in R^{N \\times D}$ (from the previous layer), the forward pass of an affine layer with weight $W \\in R^{D \\times M}$ and bias $b \\in R^M$ is defined as\n",
    "\n",
    "$$Y = X W + \\mathbb{1} b^T \\in R^{N \\times M}$$\n",
    "\n",
    "During model training, we seek to update the parameters in order to decrease the loss. This requires the gradient of the loss $L$ w.r.t. the layer parameters $W$ and $b$. Assume that the gradient of $L$ w.r.t. the layer output $Y$ is given as\n",
    "\n",
    "$$\\nabla_Y L = G \\in R^{N \\times M}$$\n",
    "\n",
    "The gradients of $L$ w.r.t. $W$ and $b$ can be computed as\n",
    "\n",
    "$$\n",
    "\\begin{cases}\n",
    "\\nabla_W L = X^T G \\in R^{D \\times M} \\\\\n",
    "\\nabla_b L = \\mathbb{1}^T G \\in R^M\n",
    "\\end{cases}\n",
    "$$\n",
    "\n",
    "For other layers preceeding the current one, we would also want to update their parameters with the help of the gradients w.r.t. their output, which is our input $X$. It writes similarly that\n",
    "\n",
    "$$\\nabla_X L = G W^T \\in R^{N \\times D}$$\n",
    "\n",
    "For those who are interested in how the equations are formulated, refer to http://cs231n.stanford.edu/handouts/linear-backprop.pdf.\n",
    "\n",
    "An important observation is that the calculation of the gradients of the current layer depends on the **upstream gradients** (i.e. $\\nabla_Y L$) from the layer afterwards. One needs to calculate the gradient of the loss value w.r.t. each parameter from the final output layer all the way back to the very beginning. This process is called **back-propagation**."
   ]
  },
  {
   "cell_type": "markdown",
   "metadata": {},
   "source": [
    "<font color=\"red\"><strong>TODO</strong></font>: Complete the functions `affine_forward`, `affine_backward` in `./utils/layer_funcs.py`. "
   ]
  },
  {
   "cell_type": "markdown",
   "metadata": {},
   "source": [
    "<font color=\"red\"><strong>NOTE</strong></font>: Please do not change the code in the cell below. The cell below will run correctly if your code is right."
   ]
  },
  {
   "cell_type": "code",
   "execution_count": 25,
   "metadata": {
    "colab": {
     "base_uri": "https://localhost:8080/",
     "height": 84
    },
    "colab_type": "code",
    "id": "2AfAMrOZtrpb",
    "outputId": "af228bb7-f1eb-41bf-e9f5-c3a6de6cdbd5",
    "tags": []
   },
   "outputs": [
    {
     "name": "stdout",
     "output_type": "stream",
     "text": [
      "Is out correct? True\n",
      "Is dx correct? True\n",
      "Is dw correct? True\n",
      "Is db correct? True\n"
     ]
    }
   ],
   "source": [
    "# THE FOLLOWING IS THE VERIFICATION CODE\n",
    "# DO NOT CHANGE IT.\n",
    "\n",
    "from utils.layer_funcs import affine_forward\n",
    "from utils.layer_funcs import affine_backward\n",
    "\n",
    "# Generate data for checking\n",
    "x = X_dev\n",
    "w = np.random.rand(x.shape[1],100)\n",
    "b = np.random.rand(100)\n",
    "dout = np.ones((x.shape[0],100))\n",
    "\n",
    "## Affine function: H = W*X + b\n",
    "out = affine_forward(x, w, b)\n",
    "dx, dw, db = affine_backward(dout, x, w, b)\n",
    "\n",
    "## Check your implementation using the tf.gradients_function()\n",
    "x_tf = tf.Variable(x, name='x')\n",
    "w_tf = tf.Variable(w, name='w')\n",
    "b_tf = tf.Variable(b, name='b')\n",
    "\n",
    "def affine_layer(x, w, b):\n",
    "    return tf.matmul(x, w) + b\n",
    "\n",
    "with tf.GradientTape() as tape:\n",
    "    tape.watch(w_tf)\n",
    "    out_tf = affine_layer(x_tf, w_tf, b_tf)\n",
    "    dx_tf, dw_tf, db_tf = tape.gradient(out_tf, (x_tf, w_tf, b_tf))\n",
    "\n",
    "out_check = out_tf.numpy()\n",
    "dx_check, dw_check, db_check = dx_tf.numpy(), dw_tf.numpy(), db_tf.numpy()\n",
    "\n",
    "## Print validation results\n",
    "print(\"Is out correct? {}\".format(np.allclose(out, out_check)))\n",
    "print(\"Is dx correct? {}\".format(np.allclose(dx, dx_check)))\n",
    "print(\"Is dw correct? {}\".format(np.allclose(dw, dw_check)))\n",
    "print(\"Is db correct? {}\".format(np.allclose(db, db_check)))"
   ]
  },
  {
   "cell_type": "markdown",
   "metadata": {},
   "source": [
    "### ReLU Layer"
   ]
  },
  {
   "cell_type": "markdown",
   "metadata": {},
   "source": [
    "Non-linearity is crucial for neural networks in their capabilities to learn and represent complex data. Mathematically, cascading linear maps are essentially equivalent to a single linear map, which is why we seek to inject non-linear functions between them. One of the simplest is ReLU (Rectified Linear Unit).\n",
    "\n",
    "Consider the following function that admits a scaler input $x$. The forward pass of `ReLU` is defined as\n",
    "\n",
    "$$y = \\max (x, 0)$$\n",
    "\n",
    "This is an element-wise mapping that can be propagated to arbitrary dimensions. The function mimics the activation mechnism of biological neurons which suppress negative inputs and pass through positive ones.\n",
    "\n",
    "The backward pass is fairly straight forward. Assume that the gradient of loss $L$ w.r.t. the layer output $y$ is given as\n",
    "\n",
    "$$\\nabla_y L = g \\in R$$\n",
    "\n",
    "Since this layer is non-parametric (no internal parameters), we only care about the gradients of $L$ w.r.t. layer input $x$, which writes\n",
    "\n",
    "$$\n",
    "\\nabla_x L = \\begin{cases}\n",
    "g & \\quad \\text{if } x > 0 \\\\\n",
    "0 & \\quad \\text{otherwise}\n",
    "\\end{cases}\n",
    "$$"
   ]
  },
  {
   "cell_type": "markdown",
   "metadata": {
    "colab_type": "text",
    "id": "LL0DqZ_ftrpd"
   },
   "source": [
    "<font color=\"red\"><strong>TODO</strong></font>: Complete the functions `relu_forward`, `relu_backward` in `./utils/layer_funcs.py`."
   ]
  },
  {
   "cell_type": "markdown",
   "metadata": {},
   "source": [
    "<font color=\"red\"><strong>NOTE</strong></font>: Please do not change the code in the cell below. The cell below will run correctly if your code is right."
   ]
  },
  {
   "cell_type": "code",
   "execution_count": 27,
   "metadata": {
    "colab": {
     "base_uri": "https://localhost:8080/",
     "height": 50
    },
    "colab_type": "code",
    "id": "nYDT8Idatrpe",
    "outputId": "a1db7202-1da9-45f5-bde1-ee42b623029f",
    "tags": []
   },
   "outputs": [
    {
     "name": "stdout",
     "output_type": "stream",
     "text": [
      "Is out correct? True\n",
      "Is dx correct? True\n"
     ]
    }
   ],
   "source": [
    "# THE FOLLOWING IS THE VERIFICATION CODE\n",
    "# DO NOT CHANGE IT.\n",
    "\n",
    "from utils.layer_funcs import relu_forward\n",
    "from utils.layer_funcs import relu_backward\n",
    "\n",
    "## Activation layers -- Here we introduce ReLU activation function\n",
    "## since it is the most commonly used in computer vision problems.\n",
    "## However, you can also try to implement \n",
    "## other activation functions like sigmoid, tanh etc.\n",
    "x = X_dev\n",
    "dout = np.ones(x.shape)\n",
    "\n",
    "## ReLU\n",
    "out = relu_forward(x)\n",
    "dx = relu_backward(dout, x)\n",
    "\n",
    "## Check by tf.GradientTape.gradients()\n",
    "x_tf = tf.Variable(x, name='x')\n",
    "with tf.GradientTape() as tape:\n",
    "    tape.watch(x_tf)\n",
    "    out_tf = tf.nn.relu(x_tf)\n",
    "    grad_gt = tape.gradient(out_tf, x_tf)\n",
    "\n",
    "out_check = out_tf.numpy()\n",
    "dx_check = grad_gt.numpy()\n",
    "## Print validation result\n",
    "print(\"Is out correct? {}\".format(np.allclose(out, out_check)))\n",
    "print(\"Is dx correct? {}\".format(np.allclose(dx, dx_check)))"
   ]
  },
  {
   "cell_type": "markdown",
   "metadata": {},
   "source": [
    "### Tanh Layer"
   ]
  },
  {
   "cell_type": "markdown",
   "metadata": {},
   "source": [
    "Another commonly used non-linear activation function is `tanh` (hyperbolic tangent), which is defined as:\n",
    "\n",
    "$$\n",
    "y = \\tanh(x) = \\frac{e^x - e^{-x}}{e^x + e^{-x}}\n",
    "$$\n",
    "\n",
    "This function maps input values to a range between -1 and 1, helping to center the data. The `tanh` activation is particularly useful when negative values are significant, as it outputs both positive and negative values.\n",
    "\n",
    "For the backward pass, given a gradient $g$ with respect to the output $y$, the gradient with respect to the input $x$ is:\n",
    "\n",
    "$$\n",
    "\\nabla_x L = g \\cdot (1 - y^2)\n",
    "$$\n",
    "\n",
    "This derivative shows how the gradients flow through the `tanh` activation, modulating the learning process."
   ]
  },
  {
   "cell_type": "markdown",
   "metadata": {},
   "source": [
    "<font color=\"red\"><strong>TODO</strong></font>: Complete the functions `tanh_forward`, `tanh_backward` in `./utils/layer_funcs.py`."
   ]
  },
  {
   "cell_type": "markdown",
   "metadata": {},
   "source": [
    "<font color=\"red\"><strong>NOTE</strong></font>: Please do not change the code in the cell below. The cell below will run correctly if your code is right."
   ]
  },
  {
   "cell_type": "code",
   "execution_count": 29,
   "metadata": {},
   "outputs": [
    {
     "name": "stdout",
     "output_type": "stream",
     "text": [
      "Is out correct? True\n",
      "Is dx correct? True\n"
     ]
    }
   ],
   "source": [
    "# THE FOLLOWING IS THE VERIFICATION CODE\n",
    "# DO NOT CHANGE IT.\n",
    "\n",
    "from utils.layer_funcs import tanh_forward\n",
    "from utils.layer_funcs import tanh_backward\n",
    "\n",
    "## Activation layers -- Here we introduce the tanh activation function.\n",
    "x = X_dev\n",
    "dout = np.ones(x.shape)\n",
    "\n",
    "## Tanh\n",
    "out = tanh_forward(x)\n",
    "dx = tanh_backward(dout, x)\n",
    "\n",
    "## Check by tf.GradientTape.gradients()\n",
    "x_tf = tf.Variable(x, name='x')\n",
    "with tf.GradientTape() as tape:\n",
    "    tape.watch(x_tf)\n",
    "    out_tf = tf.nn.tanh(x_tf)\n",
    "    grad_gt = tape.gradient(out_tf, x_tf)\n",
    "\n",
    "out_check = out_tf.numpy()\n",
    "dx_check = grad_gt.numpy()\n",
    "\n",
    "## Print validation result\n",
    "print(\"Is out correct? {}\".format(np.allclose(out, out_check)))\n",
    "print(\"Is dx correct? {}\".format(np.allclose(dx, dx_check)))"
   ]
  },
  {
   "cell_type": "markdown",
   "metadata": {},
   "source": [
    "### Softmax Cross-entropy Layer"
   ]
  },
  {
   "cell_type": "markdown",
   "metadata": {},
   "source": [
    "Loss functions are real-valued function which represent measurements of how far the model predictions are away from the ground truths. Usually in classification tasks, both the predictions and the ground-truths are given as discrete $K$-dimensional distributions (corresponds to $K$ different classes).\n",
    "\n",
    "As you may recall from task 1, a measure of dissimilarity can be given by the cross-entropy. We provided in task 1 a more detailed explaination so here we simply present the formulas.\n",
    "\n",
    "Recall the softmax function\n",
    "\n",
    "$$\\sigma (x) = \\frac{e^{x}}{\\sum_i e^{x_i}}: R^K \\to (0, 1)^K$$\n",
    "\n",
    "and the cross entropy function\n",
    "\n",
    "$$H(p, q) = -p^T \\log q: R^K \\to R$$\n",
    "\n",
    "Assume the predictions $Y \\in R^{N \\times K}$ ($y_i \\in R^K$ is the predicted logit over all classes in $R^K$ for the $i$-th data sample) and the ground truth $G \\in R^{N \\times K}$ ($g_i \\in R^K$ is the corresponding one-hot encoding of the ground truth class). The forward pass of softmax cross-entropy loss is defined as\n",
    "\n",
    "$$L = \\frac{1}{N} \\sum_i H(g_i, \\sigma (y_i))$$\n",
    "\n",
    "And the backward pass is\n",
    "\n",
    "$$\\nabla_Y L = \\frac{1}{N} (\\sigma (Y) - G)$$"
   ]
  },
  {
   "cell_type": "markdown",
   "metadata": {
    "colab_type": "text",
    "id": "LrSXJOdktrph"
   },
   "source": [
    "<font color=\"red\"><strong>TODO</strong></font>: Complete the functions `softmax_loss` in `./utils/layer_funcs.py`."
   ]
  },
  {
   "cell_type": "markdown",
   "metadata": {},
   "source": [
    "<font color=\"red\"><strong>NOTE</strong></font>: Please do not change the code in the cell below. The cell below will run correctly if your code is right."
   ]
  },
  {
   "cell_type": "code",
   "execution_count": 31,
   "metadata": {
    "colab": {
     "base_uri": "https://localhost:8080/",
     "height": 50
    },
    "colab_type": "code",
    "id": "rG2_zSsjtrpi",
    "outputId": "5b8fd3ce-0175-4aa2-c29d-b0925dcf2f42",
    "tags": []
   },
   "outputs": [
    {
     "name": "stdout",
     "output_type": "stream",
     "text": [
      "Is loss correct? True\n",
      "Is dx correct? True\n"
     ]
    }
   ],
   "source": [
    "# THE FOLLOWING IS THE VERIFICATION CODE\n",
    "# DO NOT CHANGE IT.\n",
    "\n",
    "from utils.layer_funcs import softmax_loss\n",
    "\n",
    "## Generate some random data for testing\n",
    "x = np.random.rand(100, 10)\n",
    "y = np.argmax(x, axis=1)\n",
    "\n",
    "loss, dx = softmax_loss(x, y)\n",
    "\n",
    "## Check by tf.GradientTape.gradients()\n",
    "\n",
    "x_tf = tf.Variable(x, name='x')\n",
    "y_tf = tf.Variable(y, name='y')\n",
    "\n",
    "with tf.GradientTape() as tape:\n",
    "    tape.watch(x_tf)\n",
    "    loss_tf = tf.reduce_mean(tf.nn.softmax_cross_entropy_with_logits(logits=x_tf, labels=tf.one_hot(y_tf, 10)))\n",
    "    dx_tf = tape.gradient(loss_tf, x_tf)\n",
    "\n",
    "loss_check = loss_tf.numpy()\n",
    "dx_check = dx_tf.numpy()\n",
    "## Print validation result\n",
    "print(\"Is loss correct? {}\".format(np.allclose(loss, loss_check)))\n",
    "print(\"Is dx correct? {}\".format(np.allclose(dx, dx_check)))"
   ]
  },
  {
   "cell_type": "markdown",
   "metadata": {},
   "source": [
    "### Create a single layer"
   ]
  },
  {
   "cell_type": "markdown",
   "metadata": {},
   "source": [
    "In this section, we are going to implement an **affine layer** and then a **dense layer** on top of that. \n",
    "\n",
    "* input >> AffineLayer >> output\n",
    "\n",
    "```\n",
    "    class AffineLayer:\n",
    "        __init__:\n",
    "            params - weights and bias\n",
    "            cache - intermeidate results for back propagation\n",
    "            gradients - gradients of the parameters for optimization\n",
    "        feedforward: forward pass\n",
    "        backward: backward pass\n",
    "        update_layer: update layer parameters\n",
    "```\n",
    "\n",
    "* input >> AffineLayer >> ReLU >> output\n",
    "\n",
    "```\n",
    "    class DenseLayer:\n",
    "        __init__:\n",
    "            affine - an affine layer\n",
    "            activation: activation function\n",
    "        feedforward: forward pass\n",
    "        backward: backward pass\n",
    "        update_layer: update layer parameters\n",
    "```"
   ]
  },
  {
   "cell_type": "markdown",
   "metadata": {
    "colab_type": "text",
    "id": "PhIgKu9ptrpl"
   },
   "source": [
    "<font color=\"red\"><strong>TODO</strong></font>: Complete function `AffineLayer` in `./utils/layer_utils.py`."
   ]
  },
  {
   "cell_type": "markdown",
   "metadata": {},
   "source": [
    "<font color=\"red\"><strong>NOTE</strong></font>: Please do not change the code in the cell below. The cell below will run correctly if your code is right."
   ]
  },
  {
   "cell_type": "code",
   "execution_count": 41,
   "metadata": {
    "colab": {
     "base_uri": "https://localhost:8080/",
     "height": 84
    },
    "colab_type": "code",
    "id": "Se8aWo7Ktrpm",
    "outputId": "803e04f9-7654-4ad4-8050-90e0f0e6a2c5",
    "tags": []
   },
   "outputs": [
    {
     "name": "stdout",
     "output_type": "stream",
     "text": [
      "Is out correct? True\n",
      "Is dx correct? True\n",
      "Is dw correct? True\n",
      "Is db correct? True\n"
     ]
    }
   ],
   "source": [
    "# THE FOLLOWING IS THE VERIFICATION CODE\n",
    "# DO NOT CHANGE IT.\n",
    "\n",
    "from utils.layer_utils import AffineLayer\n",
    "\n",
    "## Affine\n",
    "test_affine = AffineLayer(input_dim=X_train.shape[1], output_dim=100)\n",
    "w, b = test_affine.params['W'], test_affine.params['b']\n",
    "\n",
    "## Data for correctness check\n",
    "x = X_dev\n",
    "dout = np.ones((x.shape[0], 100))\n",
    "\n",
    "out = test_affine.feedforward(x)\n",
    "dx = test_affine.backward(dout)\n",
    "dw, db = test_affine.gradients['W'], test_affine.gradients['b']\n",
    "\n",
    "## Check by tf.GradientTape.gradients()\n",
    "x_tf = tf.Variable(x, name='x')\n",
    "w_tf = tf.Variable(w, name='w')\n",
    "b_tf = tf.Variable(b, name='b')\n",
    "\n",
    "def affine_layer(x, w, b):\n",
    "    return tf.matmul(x, w) + b\n",
    "\n",
    "with tf.GradientTape() as tape:\n",
    "    tape.watch(w_tf)\n",
    "    out_tf = affine_layer(x_tf, w_tf, b_tf)\n",
    "    dx_tf, dw_tf, db_tf = tape.gradient(out_tf, (x_tf, w_tf, b_tf))\n",
    "\n",
    "out_check = out_tf.numpy()\n",
    "dx_check = dx_tf.numpy()\n",
    "dw_check = dw_tf.numpy()\n",
    "db_check = db_tf.numpy()\n",
    "\n",
    "## Print validation result\n",
    "print(\"Is out correct? {}\".format(np.allclose(out, out_check)))\n",
    "print(\"Is dx correct? {}\".format(np.allclose(dx, dx_check)))\n",
    "print(\"Is dw correct? {}\".format(np.allclose(dw, dw_check)))\n",
    "print(\"Is db correct? {}\".format(np.allclose(db, db_check)))"
   ]
  },
  {
   "cell_type": "markdown",
   "metadata": {
    "colab_type": "text",
    "id": "L2MhDHIJtrpo"
   },
   "source": [
    "<font color=\"red\"><strong>TODO</strong></font>: Complete function `DenseLayer` in **./utils/layer_utils.py**"
   ]
  },
  {
   "cell_type": "markdown",
   "metadata": {},
   "source": [
    "<font color=\"red\"><strong>NOTE</strong></font>: Please do not change the code in the cell below. The cell below will run correctly if your code is right."
   ]
  },
  {
   "cell_type": "code",
   "execution_count": 53,
   "metadata": {
    "colab": {
     "base_uri": "https://localhost:8080/",
     "height": 84
    },
    "colab_type": "code",
    "id": "G8MgO2Gztrpq",
    "outputId": "5047dedc-a265-437f-882e-24adfd691074",
    "tags": []
   },
   "outputs": [
    {
     "name": "stdout",
     "output_type": "stream",
     "text": [
      "Is out correct? True\n",
      "Is dx correct? True\n",
      "Is dw correct? True\n",
      "Is db correct? True\n"
     ]
    },
    {
     "data": {
      "image/png": "[encoded data removed]",
      "text/plain": [
       "<Figure size 1500x500 with 2 Axes>"
      ]
     },
     "metadata": {},
     "output_type": "display_data"
    }
   ],
   "source": [
    "# THE FOLLOWING IS THE VERIFICATION CODE\n",
    "# DO NOT CHANGE IT.\n",
    "\n",
    "## First, let's make a dense layer\n",
    "from utils.layer_utils import DenseLayer\n",
    "\n",
    "## Affine + ReLU\n",
    "test_dense = DenseLayer(input_dim=X_train.shape[1], output_dim=100)\n",
    "w, b = test_dense.params['W'], test_dense.params['b']\n",
    "\n",
    "## Data for correctness check\n",
    "x = X_dev\n",
    "dout = np.ones((x.shape[0], 100))\n",
    "\n",
    "z = x.dot(w) + b\n",
    "\n",
    "out = test_dense.feedforward(x)\n",
    "dx = test_dense.backward(dout)\n",
    "dw, db = test_dense.gradients['W'], test_dense.gradients['b']\n",
    "\n",
    "## Check by tf.GradientTape.gradients()\n",
    "x_tf = tf.Variable(x, name='x')\n",
    "w_tf = tf.Variable(w, name='w')\n",
    "b_tf = tf.Variable(b, name='b')\n",
    "\n",
    "def dense_layer(x, w, b):\n",
    "    return tf.nn.relu(tf.matmul(x, w) + b)\n",
    "\n",
    "with tf.GradientTape() as tape:\n",
    "    tape.watch(w_tf)\n",
    "    out_tf = dense_layer(x_tf, w_tf, b_tf)\n",
    "    dx_tf, dw_tf, db_tf = tape.gradient(out_tf, (x_tf, w_tf, b_tf))\n",
    "\n",
    "out_check = out_tf.numpy()\n",
    "dx_check = dx_tf.numpy()\n",
    "dw_check = dw_tf.numpy()\n",
    "db_check = db_tf.numpy()\n",
    "\n",
    "## Print validation result\n",
    "print(\"Is out correct? {}\".format(np.allclose(out, out_check)))\n",
    "print(\"Is dx correct? {}\".format(np.allclose(dx, dx_check)))\n",
    "print(\"Is dw correct? {}\".format(np.allclose(dw, dw_check)))\n",
    "print(\"Is db correct? {}\".format(np.allclose(db, db_check)))\n",
    "\n",
    "# Visualization\n",
    "\n",
    "# Plot the output before and after activation\n",
    "plt.figure(figsize=(15, 5))\n",
    "\n",
    "plt.subplot(1, 3, 1)\n",
    "plt.hist(z.flatten(), bins=50, color='blue', alpha=0.7)\n",
    "plt.title('Output before Activation (z)')\n",
    "\n",
    "plt.subplot(1, 3, 2)\n",
    "plt.hist(out.flatten(), bins=50, color='green', alpha=0.7)\n",
    "plt.title('Output after Activation (ReLU)')\n",
    "\n",
    "plt.tight_layout()\n",
    "plt.show()"
   ]
  },
  {
   "cell_type": "markdown",
   "metadata": {},
   "source": [
    "<font color=\"red\"><strong>TODO</strong></font>: What do you observe from the figure?"
   ]
  },
  {
   "cell_type": "markdown",
   "metadata": {},
   "source": [
    "   Your answer: **[fill in here]**"
   ]
  },
  {
   "cell_type": "markdown",
   "metadata": {},
   "source": [
    "## Part 2: Two Layer Network (15%)"
   ]
  },
  {
   "cell_type": "markdown",
   "metadata": {
    "colab_type": "text",
    "id": "Y9cJLCPstrpt"
   },
   "source": [
    "Complete the class `TwoLayerNet` in `./utils/classifiers/twolayernet.py`. Through this experiment, you will create a two-layer neural network and learn about the backpropagation mechanism. The network structure is like \n",
    "\n",
    "* input >> DenseLayer >> AffineLayer >> softmax loss >> output\n",
    "\n",
    "```\n",
    "    class TwoLayerNet:\n",
    "        __init__: \n",
    "            - layers: a dense layer and an affine layer\n",
    "        forward: forward pass\n",
    "        loss: cross entropy loss and gradients\n",
    "        step: a single step update of all weights and bias by SGD.\n",
    "        predict: output result (classification accuracy) based on input data\n",
    "        save_model: return the parameters of the network\n",
    "        update_model: update model weights (by calling layer.update_layer)\n",
    "```"
   ]
  },
  {
   "cell_type": "markdown",
   "metadata": {},
   "source": [
    "You will use two different optimization algorithms - **SGD** and **SGD with momentum**. A comparison between them is as follows:\n",
    "\n",
    "* Stochastic gradient descent - SGD\n",
    "\n",
    "$$w \\gets w - \\alpha \\nabla_w L$$\n",
    "\n",
    "* SGD with momentum\n",
    "\n",
    "$$v \\gets \\beta v + \\alpha \\nabla_w L,\\quad w \\gets w - v$$\n",
    "\n",
    "where $\\alpha$ is the learning rate (step size) and $\\beta$ is the momentum. "
   ]
  },
  {
   "cell_type": "markdown",
   "metadata": {
    "colab_type": "text",
    "id": "JBFtQx5Utrpu"
   },
   "source": [
    "<font color=\"red\"><strong>TODO</strong></font>: Complete class `TwoLayerNet` in `./utils/classifiers/twolayernet.py`."
   ]
  },
  {
   "cell_type": "markdown",
   "metadata": {},
   "source": [
    "<font color=\"red\"><strong>NOTE</strong></font>: Please do not change the code in the cell below. The cell below will run correctly if your code is right."
   ]
  },
  {
   "cell_type": "code",
   "execution_count": 63,
   "metadata": {
    "colab": {
     "base_uri": "https://localhost:8080/",
     "height": 34
    },
    "colab_type": "code",
    "id": "1QlpmRrEtrpv",
    "outputId": "2dfb94b6-1d2d-4bf6-efce-0d54c7725cc8",
    "tags": []
   },
   "outputs": [
    {
     "ename": "NotImplementedError",
     "evalue": "",
     "output_type": "error",
     "traceback": [
      "\u001b[0;31m---------------------------------------------------------------------------\u001b[0m",
      "\u001b[0;31mNotImplementedError\u001b[0m                       Traceback (most recent call last)",
      "Cell \u001b[0;32mIn[63], line 14\u001b[0m\n\u001b[1;32m     12\u001b[0m \u001b[38;5;66;03m## Backprogation -- Finish loss function and gradients calculation in TwoLayerNet\u001b[39;00m\n\u001b[1;32m     13\u001b[0m loss \u001b[38;5;241m=\u001b[39m model\u001b[38;5;241m.\u001b[39mloss(y_score, y_dev)\n\u001b[0;32m---> 14\u001b[0m pred \u001b[38;5;241m=\u001b[39m model\u001b[38;5;241m.\u001b[39mpredict(X_dev)\n\u001b[1;32m     16\u001b[0m \u001b[38;5;66;03m## Check loss by tensorflow\u001b[39;00m\n\u001b[1;32m     17\u001b[0m x_tf \u001b[38;5;241m=\u001b[39m tf\u001b[38;5;241m.\u001b[39mVariable(X_dev, dtype\u001b[38;5;241m=\u001b[39mtf\u001b[38;5;241m.\u001b[39mfloat32)\n",
      "File \u001b[0;32m~/Downloads/e4040-2024fall-assign1-Lindsey-cyber-main/utils/classifiers/twolayernet.py:185\u001b[0m, in \u001b[0;36mTwoLayerNet.predict\u001b[0;34m(self, X)\u001b[0m\n\u001b[1;32m    176\u001b[0m preds \u001b[38;5;241m=\u001b[39m np\u001b[38;5;241m.\u001b[39mzeros(X\u001b[38;5;241m.\u001b[39mshape[\u001b[38;5;241m0\u001b[39m])\n\u001b[1;32m    178\u001b[0m \u001b[38;5;66;03m############################################################################\u001b[39;00m\n\u001b[1;32m    179\u001b[0m \u001b[38;5;66;03m# TODO: Generate predictions                                               #\u001b[39;00m\n\u001b[1;32m    180\u001b[0m \u001b[38;5;66;03m############################################################################\u001b[39;00m\n\u001b[1;32m    181\u001b[0m \u001b[38;5;66;03m############################################################################\u001b[39;00m\n\u001b[1;32m    182\u001b[0m \u001b[38;5;66;03m#                         START OF YOUR CODE                               #\u001b[39;00m\n\u001b[1;32m    183\u001b[0m \u001b[38;5;66;03m############################################################################\u001b[39;00m\n\u001b[0;32m--> 185\u001b[0m \u001b[38;5;28;01mraise\u001b[39;00m \u001b[38;5;167;01mNotImplementedError\u001b[39;00m\n\u001b[1;32m    187\u001b[0m \u001b[38;5;66;03m############################################################################\u001b[39;00m\n\u001b[1;32m    188\u001b[0m \u001b[38;5;66;03m#                          END OF YOUR CODE                                #\u001b[39;00m\n\u001b[1;32m    189\u001b[0m \u001b[38;5;66;03m############################################################################\u001b[39;00m\n\u001b[1;32m    191\u001b[0m \u001b[38;5;28;01mreturn\u001b[39;00m preds\n",
      "\u001b[0;31mNotImplementedError\u001b[0m: "
     ]
    }
   ],
   "source": [
    "# THE FOLLOWING IS THE VERIFICATION CODE\n",
    "# DO NOT CHANGE IT.\n",
    "\n",
    "from utils.classifiers.twolayernet import TwoLayerNet\n",
    "\n",
    "## Define a model\n",
    "model = TwoLayerNet(input_dim=X_train.shape[1], hidden_dim=100, num_classes=20, reg=1e-4)\n",
    "W1, b1 = model.layer1.params['W'], model.layer1.params['b']\n",
    "W2, b2 = model.layer2.params['W'], model.layer2.params['b']\n",
    "## Feedforward\n",
    "y_score = model.forward(X_dev)\n",
    "## Backprogation -- Finish loss function and gradients calculation in TwoLayerNet\n",
    "loss = model.loss(y_score, y_dev)\n",
    "pred = model.predict(X_dev)\n",
    "\n",
    "## Check loss by tensorflow\n",
    "x_tf = tf.Variable(X_dev, dtype=tf.float32)\n",
    "y_tf = tf.Variable(y_dev, dtype=tf.uint8)\n",
    "\n",
    "W1_tf = tf.Variable(W1.astype('float32'))\n",
    "b1_tf = tf.Variable(b1.astype('float32'))\n",
    "W2_tf = tf.Variable(W2.astype('float32'))\n",
    "b2_tf = tf.Variable(b2.astype('float32'))\n",
    "h1_tf = tf.nn.relu(tf.matmul(x_tf, W1_tf))\n",
    "h2_tf = tf.matmul(h1_tf, W2_tf) + b2_tf\n",
    "cross_entropy = tf.nn.softmax_cross_entropy_with_logits(logits=h2_tf, labels=tf.one_hot(y_tf, 20))\n",
    "L2_loss = tf.nn.l2_loss(W1_tf) + tf.nn.l2_loss(W2_tf)\n",
    "loss_tf = tf.reduce_mean(cross_entropy) + 1e-4 * L2_loss\n",
    "pred_tf = tf.argmax(h2_tf, axis=-1)\n",
    "\n",
    "loss_check = loss_tf.numpy()\n",
    "pred_check = pred_tf.numpy()\n",
    "\n",
    "## Print validation result\n",
    "print(\"Is loss correct? {}\".format(np.allclose(loss, loss_check)))\n",
    "print(\"Is prediction correct? {}\".format(np.allclose(pred, pred_check)))"
   ]
  },
  {
   "cell_type": "markdown",
   "metadata": {
    "colab_type": "text",
    "id": "4WjSapZXtrpy"
   },
   "source": [
    "### Train a two-layer network"
   ]
  },
  {
   "cell_type": "markdown",
   "metadata": {
    "colab_type": "text",
    "id": "HnEd1Z9Wtrpz"
   },
   "source": [
    "#### Import functions for training and testing"
   ]
  },
  {
   "cell_type": "code",
   "execution_count": 55,
   "metadata": {
    "colab": {},
    "colab_type": "code",
    "id": "et5ZTXBktrpz"
   },
   "outputs": [],
   "source": [
    "from utils.train_funcs import train, test"
   ]
  },
  {
   "cell_type": "markdown",
   "metadata": {
    "colab_type": "text",
    "id": "n2Nbd9iotrp2"
   },
   "source": [
    "#### Start training\n",
    "We have provide you the `train` function in **./utils/train_func.py**"
   ]
  },
  {
   "cell_type": "code",
   "execution_count": 57,
   "metadata": {
    "colab": {
     "base_uri": "https://localhost:8080/",
     "height": 1000
    },
    "colab_type": "code",
    "id": "eOIqjSUCtrp2",
    "outputId": "8cc8db83-6caa-4357-e086-87801f6fabf1",
    "scrolled": true,
    "tags": []
   },
   "outputs": [
    {
     "name": "stdout",
     "output_type": "stream",
     "text": [
      "number of batches for training: 98\n"
     ]
    },
    {
     "ename": "ModuleNotFoundError",
     "evalue": "No module named 'layer_funcs'",
     "output_type": "error",
     "traceback": [
      "\u001b[0;31m---------------------------------------------------------------------------\u001b[0m",
      "\u001b[0;31mModuleNotFoundError\u001b[0m                       Traceback (most recent call last)",
      "Cell \u001b[0;32mIn[57], line 17\u001b[0m\n\u001b[1;32m     15\u001b[0m lr \u001b[38;5;241m=\u001b[39m \u001b[38;5;241m5e-4\u001b[39m\n\u001b[1;32m     16\u001b[0m verbose \u001b[38;5;241m=\u001b[39m \u001b[38;5;28;01mTrue\u001b[39;00m\n\u001b[0;32m---> 17\u001b[0m train_acc_hist, val_acc_hist \u001b[38;5;241m=\u001b[39m train(\n\u001b[1;32m     18\u001b[0m     model, X_train, y_train, X_val, y_val, num_epoch\u001b[38;5;241m=\u001b[39mnum_epoch, batch_size\u001b[38;5;241m=\u001b[39mbatch_size, \n\u001b[1;32m     19\u001b[0m     learning_rate\u001b[38;5;241m=\u001b[39mlr, verbose\u001b[38;5;241m=\u001b[39mverbose\n\u001b[1;32m     20\u001b[0m )\n\u001b[1;32m     21\u001b[0m test(model, X_test, y_test)\n",
      "File \u001b[0;32m~/Downloads/e4040-2024fall-assign1-Lindsey-cyber-main/utils/train_funcs.py:47\u001b[0m, in \u001b[0;36mtrain\u001b[0;34m(model, X_train, y_train, X_valid, y_valid, num_epoch, batch_size, learning_rate, learning_decay, optim, momentum, verbose)\u001b[0m\n\u001b[1;32m     45\u001b[0m y_batch \u001b[38;5;241m=\u001b[39m y_train[sample_idxs]\n\u001b[1;32m     46\u001b[0m \u001b[38;5;66;03m# forward\u001b[39;00m\n\u001b[0;32m---> 47\u001b[0m scores \u001b[38;5;241m=\u001b[39m model\u001b[38;5;241m.\u001b[39mforward(X_batch)\n\u001b[1;32m     48\u001b[0m \u001b[38;5;66;03m# loss\u001b[39;00m\n\u001b[1;32m     49\u001b[0m loss \u001b[38;5;241m=\u001b[39m model\u001b[38;5;241m.\u001b[39mloss(scores, y_batch)\n",
      "File \u001b[0;32m~/Downloads/e4040-2024fall-assign1-Lindsey-cyber-main/utils/classifiers/twolayernet.py:55\u001b[0m, in \u001b[0;36mTwoLayerNet.forward\u001b[0;34m(self, X)\u001b[0m\n\u001b[1;32m     38\u001b[0m \u001b[38;5;250m\u001b[39m\u001b[38;5;124;03m\"\"\"\u001b[39;00m\n\u001b[1;32m     39\u001b[0m \u001b[38;5;124;03mFeed forward\u001b[39;00m\n\u001b[1;32m     40\u001b[0m \n\u001b[0;32m   (...)\u001b[0m\n\u001b[1;32m     44\u001b[0m \u001b[38;5;124;03mReturns a numpy array of (N, K) containing prediction scores\u001b[39;00m\n\u001b[1;32m     45\u001b[0m \u001b[38;5;124;03m\"\"\"\u001b[39;00m\n\u001b[1;32m     47\u001b[0m \u001b[38;5;66;03m############################################################################\u001b[39;00m\n\u001b[1;32m     48\u001b[0m \u001b[38;5;66;03m#                        START OF YOUR CODE                                #\u001b[39;00m\n\u001b[1;32m     49\u001b[0m \u001b[38;5;66;03m############################################################################\u001b[39;00m\n\u001b[0;32m   (...)\u001b[0m\n\u001b[1;32m     52\u001b[0m \u001b[38;5;66;03m# NOTE: Use self.layer#.feedforward function you wrote in layer_funcs.py   #\u001b[39;00m\n\u001b[1;32m     53\u001b[0m \u001b[38;5;66;03m############################################################################\u001b[39;00m\n\u001b[0;32m---> 55\u001b[0m \u001b[38;5;28;01mfrom\u001b[39;00m \u001b[38;5;21;01mlayer_funcs\u001b[39;00m\u001b[38;5;21;01m.\u001b[39;00m\u001b[38;5;21;01mpy\u001b[39;00m \u001b[38;5;28;01mimport\u001b[39;00m affine_forward, relu_forward, tanh_forward\n\u001b[1;32m     58\u001b[0m \u001b[38;5;66;03m############################################################################\u001b[39;00m\n\u001b[1;32m     59\u001b[0m \u001b[38;5;66;03m#                          END OF YOUR CODE                                #\u001b[39;00m\n\u001b[1;32m     60\u001b[0m \u001b[38;5;66;03m############################################################################\u001b[39;00m\n\u001b[1;32m     62\u001b[0m \u001b[38;5;28;01mreturn\u001b[39;00m X\n",
      "\u001b[0;31mModuleNotFoundError\u001b[0m: No module named 'layer_funcs'"
     ]
    }
   ],
   "source": [
    "# THE FOLLOWING IS THE VERIFICATION CODE     #\n",
    "# DO NOT CHANGE IT.                        #\n",
    "\n",
    "from utils.classifiers.twolayernet import TwoLayerNet\n",
    "\n",
    "## TODO: Use previous layers to create a two layer neural network\n",
    "## input->(affine->activation)->(affine->softmax)->output\n",
    "## The recommended activation function is ReLU. And you can \n",
    "## also make a comparison with other activation function to see\n",
    "## any difference.\n",
    "model = TwoLayerNet(input_dim=X_train.shape[1], hidden_dim=400, num_classes=20, reg=1e-4, weight_scale=1e-3)\n",
    "\n",
    "num_epoch = 10\n",
    "batch_size = 500\n",
    "lr = 5e-4\n",
    "verbose = True\n",
    "train_acc_hist, val_acc_hist = train(\n",
    "    model, X_train, y_train, X_val, y_val, num_epoch=num_epoch, batch_size=batch_size, \n",
    "    learning_rate=lr, verbose=verbose\n",
    ")\n",
    "test(model, X_test, y_test)"
   ]
  },
  {
   "cell_type": "markdown",
   "metadata": {
    "colab_type": "text",
    "id": "ID-4_nLqtrp5"
   },
   "source": [
    "<font color=\"red\"><strong>TODO</strong></font>: Plot training and validation accuracy history of each epoch. Remember to add a legend. "
   ]
  },
  {
   "cell_type": "code",
   "execution_count": null,
   "metadata": {},
   "outputs": [],
   "source": [
    "## TODO: Plot the accuracy history\n",
    "\n",
    "############################################################################\n",
    "#                         START OF YOUR CODE                               #\n",
    "############################################################################\n",
    "\n",
    "\n",
    "\n",
    "############################################################################\n",
    "#                          END OF YOUR CODE                                #\n",
    "############################################################################"
   ]
  },
  {
   "cell_type": "markdown",
   "metadata": {
    "colab_type": "text",
    "id": "42xHlu5utrp9"
   },
   "source": [
    "#### Visulize the weight variable in the first layer.\n",
    "\n",
    "Visualization of the intermediate weights can help you get an intuitive understanding of how the network works, especially in  Convolutional Neural Networks (CNNs)."
   ]
  },
  {
   "cell_type": "code",
   "execution_count": null,
   "metadata": {
    "colab": {},
    "colab_type": "code",
    "id": "gFr5Kvrmtrp9"
   },
   "outputs": [],
   "source": [
    "from utils.display_funcs import visualize_pics"
   ]
  },
  {
   "cell_type": "code",
   "execution_count": null,
   "metadata": {
    "colab": {
     "base_uri": "https://localhost:8080/",
     "height": 286
    },
    "colab_type": "code",
    "id": "OrusGTkltrqA",
    "outputId": "6a87d009-7825-4795-b23d-95ba44a5cf8d",
    "tags": []
   },
   "outputs": [],
   "source": [
    "weights = model.layer1.params['W']\n",
    "pics = weights.reshape(1, X_train_raw.shape[1], X_train_raw.shape[2], -1).transpose(3, 1, 2, 0)\n",
    "## Visualization\n",
    "visualize_pics(pics, cmap='nipy_spectral')"
   ]
  },
  {
   "cell_type": "markdown",
   "metadata": {
    "colab_type": "text",
    "id": "2s4-QzTHtrqD"
   },
   "source": [
    "### Get test accuracy greater than 80%\n",
    "\n",
    "For this part, you need to train a better two-layer net. The requirement is to get test accuracy better than 80%. If your accuracy is lower, for each 1% lower than 80%, you will lose 1 point (There are totally 10 points for this part).\n",
    "\n",
    "Here are some recommended methods for improving the performance. Feel free to try any other method as you see fit.\n",
    "\n",
    "1. Hyperparameter tuning: reg, hidden_dim, lr, learning_decay, num_epoch, batch_size, weight_scale.\n",
    "2. Adjust training strategy: Randomly select a batch of samples rather than selecting them orderly. \n",
    "3. Try new optimization methods: Now we are using SGD, you can try SGD with momentum, adam, etc.\n",
    "4. Early-stopping.\n",
    "5. Good (better) initial values for weights in the model."
   ]
  },
  {
   "cell_type": "markdown",
   "metadata": {
    "colab_type": "text",
    "id": "XK0pOcTLtrqE"
   },
   "source": [
    "<font color=\"red\"><strong>TODO:</strong></font> See below."
   ]
  },
  {
   "cell_type": "code",
   "execution_count": null,
   "metadata": {
    "colab": {},
    "colab_type": "code",
    "id": "PfTHBopktrqE"
   },
   "outputs": [],
   "source": [
    "from utils.classifiers.twolayernet import TwoLayerNet\n",
    "# TODO: Use previous layers to create a two layer neural network.\n",
    "# Try several solutions and report the best performing one.\n",
    "# input->(affine->activation)->(affine->softmax)->output\n",
    "# The recommended activation function is ReLU. You can \n",
    "# make a comparison with other activation functions to see\n",
    "# the differences.\n",
    "#\n",
    "# You will need to execute code similar to the code below, using your parameter specs:\n",
    "#    model = TwoLayerNet(input_dim=TBD, hidden_dim=TBD, num_classes=TBD, reg=TBD, weight_scale=TBD)\n",
    "#    num_epoch = TBD\n",
    "#    batch_size = TBD\n",
    "#    lr = TBD\n",
    "#    verbose = TBD\n",
    "#    train_acc_hist, val_acc_hist = train(TBD)\n",
    "#    test(TBD, TBD, TBD)\n",
    "\n",
    "\n",
    "############################################################################\n",
    "#                         START OF YOUR CODE                               #\n",
    "############################################################################\n",
    "\n",
    "\n",
    "\n",
    "############################################################################\n",
    "#                          END OF YOUR CODE                                #\n",
    "############################################################################"
   ]
  },
  {
   "cell_type": "markdown",
   "metadata": {
    "colab_type": "text",
    "id": "qI9Zc9cItrqJ"
   },
   "source": [
    "#### <font color=\"red\"><strong>TODO</strong></font>: Show your best result, including accuracy and weights of the first layer"
   ]
  },
  {
   "cell_type": "code",
   "execution_count": null,
   "metadata": {},
   "outputs": [],
   "source": [
    "## TODO: Plot training and validation accuracy\n",
    "\n",
    "############################################################################\n",
    "#                         START OF YOUR CODE                               #\n",
    "############################################################################\n",
    "\n",
    "\n",
    "\n",
    "############################################################################\n",
    "#                          END OF YOUR CODE                                #\n",
    "############################################################################"
   ]
  },
  {
   "cell_type": "code",
   "execution_count": null,
   "metadata": {},
   "outputs": [],
   "source": [
    "## TODO: Visualize weights\n",
    "\n",
    "############################################################################\n",
    "#                         START OF YOUR CODE                               #\n",
    "############################################################################\n",
    "\n",
    "\n",
    "\n",
    "############################################################################\n",
    "#                          END OF YOUR CODE                                #\n",
    "############################################################################"
   ]
  },
  {
   "cell_type": "markdown",
   "metadata": {
    "colab_type": "text",
    "id": "C7SAy1J1trqP"
   },
   "source": [
    "### Save Your Best Model in a Dictionary "
   ]
  },
  {
   "cell_type": "code",
   "execution_count": null,
   "metadata": {
    "colab": {},
    "colab_type": "code",
    "id": "B9iMeOm1trqQ"
   },
   "outputs": [],
   "source": [
    "## Create \"save_model\" folder if it does not exist\n",
    "save_dir = \"./save_models/\"\n",
    "if not os.path.exists(save_dir):\n",
    "    os.makedirs(save_dir)\n",
    "\n",
    "## Save your model\n",
    "save_params = model.save_model()\n",
    "with open(\"./save_models/best_model.pkl\", \"wb\") as output_file:\n",
    "    pickle.dump(save_params, output_file)"
   ]
  },
  {
   "cell_type": "code",
   "execution_count": null,
   "metadata": {
    "colab": {},
    "colab_type": "code",
    "id": "2XzKlA_1trqT"
   },
   "outputs": [],
   "source": [
    "## Load your model\n",
    "with open(\"./save_models/best_model.pkl\", \"rb\") as input_file:\n",
    "   loaded_model = pickle.load(input_file)\n",
    "\n",
    "model = TwoLayerNet(input_dim=X_train.shape[1], hidden_dim=300, num_classes=20)\n",
    "model.update_model(loaded_model)"
   ]
  },
  {
   "cell_type": "markdown",
   "metadata": {
    "colab_type": "text",
    "id": "W6DUwt8OtrqV"
   },
   "source": [
    "## Part 3: Multilayer Network (10%)\n",
    "\n",
    "Complete the class `MLP` in `./utils/classifiers/mlp.py`. It should allow arbitrary settings for the number of hidden layers as well as the number of hidden neurons in each layer. `MLP` has a similar structure as a `TwoLayerNet` network.\n",
    "\n",
    "```\n",
    "class MLP:\n",
    "    functions: __init__, loss, step, predict, check_accuracy\n",
    "    variables: layers\n",
    "```"
   ]
  },
  {
   "cell_type": "markdown",
   "metadata": {},
   "source": [
    "<font color=\"red\"><strong>TODO</strong></font>: Complete the class `MLP` in `./utils/classifiers/mlp.py`."
   ]
  },
  {
   "cell_type": "markdown",
   "metadata": {},
   "source": [
    "<font color=\"red\"><strong>NOTE</strong></font>: Please do not change the code in the cell below, The cell below will run correctly if your code is right."
   ]
  },
  {
   "cell_type": "code",
   "execution_count": null,
   "metadata": {
    "colab": {
     "base_uri": "https://localhost:8080/",
     "height": 235
    },
    "colab_type": "code",
    "id": "1C7yH-HBtrqW",
    "outputId": "718a8627-54d1-456f-afb4-3239c3564191",
    "tags": []
   },
   "outputs": [],
   "source": [
    "# THE FOLLOWING IS THE VERIFICATION CODE\n",
    "# DO NOT CHANGE IT.\n",
    "\n",
    "from utils.classifiers.mlp import MLP\n",
    "\n",
    "## Use a sequence of layers to create a multiple layer neural network\n",
    "## input->(affine->activation)-> ... ->(affine->activation)->(affine->softmax)->output\n",
    "model = MLP(input_dim=X_train.shape[1], hidden_dims=[200, 100], num_classes=20, reg=0.5, weight_scale=1e-3)\n",
    "\n",
    "num_epoch = 10\n",
    "batch_size = 128\n",
    "lr = 5e-3\n",
    "verbose = False\n",
    "train_acc_hist, val_acc_hist = train(\n",
    "    model, X_train, y_train, X_val, y_val, \n",
    "    num_epoch=num_epoch, batch_size=batch_size, learning_rate=lr, \n",
    "    optim='SGD', momentum=0.9, verbose=verbose\n",
    ")\n",
    "test(model, X_test, y_test)"
   ]
  },
  {
   "cell_type": "markdown",
   "metadata": {},
   "source": [
    "<font color=\"red\"><strong>TODO</strong></font>: Plot training and validation accuracy history of each epoch"
   ]
  },
  {
   "cell_type": "code",
   "execution_count": null,
   "metadata": {},
   "outputs": [],
   "source": [
    "#TODO: plot training and validation accuracy\n",
    "\n",
    "############################################################################\n",
    "#                         START OF YOUR CODE                               #\n",
    "############################################################################\n",
    "\n",
    "\n",
    "\n",
    "############################################################################\n",
    "#                          END OF YOUR CODE                                #\n",
    "############################################################################"
   ]
  }
 ],
 "metadata": {
  "colab": {
   "name": "task2-mlp_eager.ipynb",
   "provenance": [],
   "toc_visible": true,
   "version": "0.3.2"
  },
  "kernelspec": {
   "display_name": "Python 3 (ipykernel)",
   "language": "python",
   "name": "python3"
  },
  "language_info": {
   "codemirror_mode": {
    "name": "ipython",
    "version": 3
   },
   "file_extension": ".py",
   "mimetype": "text/x-python",
   "name": "python",
   "nbconvert_exporter": "python",
   "pygments_lexer": "ipython3",
   "version": "3.12.4"
  },
  "vscode": {
   "interpreter": {
    "hash": "36142657f443a869bd2c1b509e6f1df9b014ad48aa206cdd00d27f8f22cb37ba"
   }
  }
 },
 "nbformat": 4,
 "nbformat_minor": 4
}
